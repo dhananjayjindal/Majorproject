{
 "cells": [
  {
   "cell_type": "code",
   "execution_count": 80,
   "metadata": {},
   "outputs": [],
   "source": [
    "import numpy as np\n",
    "from mealpy.optimizer import Optimizer\n",
    "\n",
    "optimizer = Optimizer()\n",
    "\n",
    "lowerbound = [0, 0, 0]\n",
    "upperbound = [10, 10, 10]\n",
    "\n",
    "T = 1000\n",
    "N = 1000\n",
    "optimum_given = 16\n",
    "Dim = len(lowerbound)"
   ]
  },
  {
   "cell_type": "code",
   "execution_count": 81,
   "metadata": {},
   "outputs": [],
   "source": [
    "def not_in_range(lowerbound, upperbound, x):\n",
    "    if (\n",
    "        4 * x[0] - 4 * x[1] > 5\n",
    "        or -1 * x[0] + 6 * x[1] > 5\n",
    "        or -1 * x[0] + x[1] + x[2] > 5\n",
    "    ):\n",
    "        return True\n",
    "\n",
    "    for i in range(0, len(lowerbound)):\n",
    "        if not lowerbound[i] <= x[i] <= upperbound[i]:\n",
    "            return True\n",
    "\n",
    "    return False\n",
    "\n",
    "\n",
    "def fitness_function(x):\n",
    "    a = 4 * x[0] + 6 * x[1] + 2 * x[2]\n",
    "    return a"
   ]
  },
  {
   "cell_type": "code",
   "execution_count": 82,
   "metadata": {},
   "outputs": [
    {
     "name": "stdout",
     "output_type": "stream",
     "text": [
      "1000\n"
     ]
    }
   ],
   "source": [
    "graph = []\n",
    "graph_x = []\n",
    "graph_y = []\n",
    "population = np.transpose(\n",
    "    [np.random.uniform(lowerbound[i], upperbound[i], N) for i in range(Dim)]\n",
    ")\n",
    "t = 0\n",
    "while t != T:\n",
    "    # Initialize the best rabbit location (global best)\n",
    "    best_rabbit_location = None\n",
    "    best_rabbit_fitness = float(\"inf\")\n",
    "    fitness_values = [fitness_function(hawks) for hawks in population]\n",
    "    best_hawk_index = np.argmax(fitness_values)\n",
    "\n",
    "    if fitness_values[best_hawk_index] < best_rabbit_fitness:\n",
    "        best_rabbit_location = population[best_hawk_index].copy()\n",
    "        best_rabbit_fitness = fitness_values[best_hawk_index]\n",
    "\n",
    "    population_new = []\n",
    "\n",
    "    i = 0\n",
    "    while i != N:\n",
    "        E0 = 2 * np.random.uniform() - 1\n",
    "        J0 = 2 * (1 - np.random.uniform())\n",
    "        E = 2 * E0 * (1 - (t + 1) * 1.0 / T)\n",
    "\n",
    "        # exploration phase\n",
    "        if np.abs(E) >= 1:\n",
    "            if np.random.rand() >= 0.5:  # perch based on other family members\n",
    "                X_rand = population[np.random.randint(0, N)]\n",
    "\n",
    "                pos_new = X_rand - np.random.uniform() * np.abs(\n",
    "                    X_rand - 2 * np.random.uniform() * population[i]\n",
    "                )\n",
    "\n",
    "            else:\n",
    "                x_mean = np.mean([x for x in np.transpose(population)])\n",
    "                pos_new = (best_rabbit_location - x_mean) - np.random.uniform() * (\n",
    "                    np.array(lowerbound)\n",
    "                    + np.random.uniform()\n",
    "                    * (np.array(upperbound) - np.array(lowerbound))\n",
    "                )\n",
    "\n",
    "            if not_in_range(lowerbound, upperbound, pos_new):\n",
    "                continue\n",
    "            population_new.append(pos_new)\n",
    "        else:\n",
    "            if np.random.rand() >= 0.5:\n",
    "                if np.abs(E) >= 0.5:  # Soft besiege Eq. (6) in paper\n",
    "                    pos_new = (\n",
    "                        best_rabbit_location\n",
    "                        - population[i]\n",
    "                        - E * np.abs(J0 * best_rabbit_location - population[i])\n",
    "                    )\n",
    "                else:  # Hard besiege Eq. (4) in paper\n",
    "                    pos_new = best_rabbit_location - E * np.abs(\n",
    "                        best_rabbit_location - population[i]\n",
    "                    )\n",
    "\n",
    "                if not_in_range(lowerbound, upperbound, pos_new):\n",
    "                    continue\n",
    "                population_new.append(pos_new)\n",
    "\n",
    "            else:\n",
    "                LF_D = optimizer.get_levy_flight_step(\n",
    "                    beta=1.5, multiplier=0.01, case=-1\n",
    "                )\n",
    "                if np.abs(E) >= 0.5:\n",
    "                    Y = best_rabbit_location - E * np.abs(\n",
    "                        J0 * best_rabbit_location - population[i]\n",
    "                    )\n",
    "                else:\n",
    "                    x_mean = np.mean(population)\n",
    "                    Y = best_rabbit_location - E * np.abs(\n",
    "                        J0 * best_rabbit_location - x_mean\n",
    "                    )\n",
    "\n",
    "                S = np.random.uniform(lowerbound, upperbound)\n",
    "                Z = Y + S * LF_D\n",
    "\n",
    "                fitness_of_Y = fitness_function(Y)\n",
    "                fitness_of_Z = fitness_function(Z)\n",
    "                if not fitness_of_Y or not fitness_of_Z:\n",
    "                    continue\n",
    "\n",
    "                if fitness_of_Y < fitness_values[i]:\n",
    "                    pos_new = Y\n",
    "                elif fitness_of_Z < fitness_values[i]:\n",
    "                    pos_new = Z\n",
    "                else:\n",
    "                    pos_new = population[i]\n",
    "\n",
    "                if not_in_range(lowerbound, upperbound, pos_new):\n",
    "                    continue\n",
    "\n",
    "                population_new.append(pos_new)\n",
    "        i += 1\n",
    "    graph_x.append(t)\n",
    "    graph_y.append(E)\n",
    "    population = population_new\n",
    "    # if np.abs(best_rabbit_fitness - optimum_given) < 0.001:\n",
    "    #     break\n",
    "    t += 1\n",
    "    graph.append([population_new, best_rabbit_location, best_rabbit_fitness])\n",
    "print(N)\n"
   ]
  },
  {
   "cell_type": "code",
   "execution_count": 84,
   "metadata": {},
   "outputs": [
    {
     "name": "stdout",
     "output_type": "stream",
     "text": [
      "best rabbit location = [2.49995782 1.24995782 6.2441148 ]\n",
      "best rabbit fitness = 29.987807839175943\n"
     ]
    }
   ],
   "source": [
    "print(\"best rabbit location = \" + str(best_rabbit_location))\n",
    "print(\"best rabbit fitness = \" + str(best_rabbit_fitness))\n"
   ]
  },
  {
   "cell_type": "code",
   "execution_count": null,
   "metadata": {},
   "outputs": [],
   "source": []
  },
  {
   "cell_type": "code",
   "execution_count": null,
   "metadata": {},
   "outputs": [],
   "source": []
  },
  {
   "cell_type": "code",
   "execution_count": null,
   "metadata": {},
   "outputs": [],
   "source": []
  },
  {
   "cell_type": "code",
   "execution_count": null,
   "metadata": {},
   "outputs": [],
   "source": []
  },
  {
   "cell_type": "code",
   "execution_count": null,
   "metadata": {},
   "outputs": [],
   "source": []
  },
  {
   "cell_type": "code",
   "execution_count": null,
   "metadata": {},
   "outputs": [],
   "source": []
  },
  {
   "cell_type": "code",
   "execution_count": null,
   "metadata": {},
   "outputs": [],
   "source": []
  },
  {
   "cell_type": "code",
   "execution_count": null,
   "metadata": {},
   "outputs": [],
   "source": []
  },
  {
   "cell_type": "code",
   "execution_count": null,
   "metadata": {},
   "outputs": [],
   "source": []
  },
  {
   "cell_type": "code",
   "execution_count": null,
   "metadata": {},
   "outputs": [],
   "source": []
  },
  {
   "cell_type": "code",
   "execution_count": null,
   "metadata": {},
   "outputs": [],
   "source": []
  },
  {
   "cell_type": "code",
   "execution_count": null,
   "metadata": {},
   "outputs": [],
   "source": []
  },
  {
   "cell_type": "code",
   "execution_count": null,
   "metadata": {},
   "outputs": [],
   "source": []
  },
  {
   "cell_type": "code",
   "execution_count": null,
   "metadata": {},
   "outputs": [],
   "source": []
  },
  {
   "cell_type": "code",
   "execution_count": null,
   "metadata": {},
   "outputs": [],
   "source": []
  },
  {
   "cell_type": "code",
   "execution_count": null,
   "metadata": {},
   "outputs": [],
   "source": []
  },
  {
   "cell_type": "code",
   "execution_count": null,
   "metadata": {},
   "outputs": [],
   "source": []
  },
  {
   "cell_type": "code",
   "execution_count": null,
   "metadata": {},
   "outputs": [],
   "source": []
  },
  {
   "cell_type": "code",
   "execution_count": null,
   "metadata": {},
   "outputs": [],
   "source": []
  },
  {
   "cell_type": "code",
   "execution_count": null,
   "metadata": {},
   "outputs": [],
   "source": []
  },
  {
   "cell_type": "code",
   "execution_count": null,
   "metadata": {},
   "outputs": [],
   "source": []
  },
  {
   "cell_type": "code",
   "execution_count": null,
   "metadata": {},
   "outputs": [],
   "source": []
  },
  {
   "cell_type": "code",
   "execution_count": null,
   "metadata": {},
   "outputs": [],
   "source": []
  },
  {
   "cell_type": "code",
   "execution_count": null,
   "metadata": {},
   "outputs": [],
   "source": []
  },
  {
   "cell_type": "code",
   "execution_count": null,
   "metadata": {},
   "outputs": [],
   "source": []
  },
  {
   "cell_type": "code",
   "execution_count": null,
   "metadata": {},
   "outputs": [],
   "source": []
  },
  {
   "cell_type": "code",
   "execution_count": null,
   "metadata": {},
   "outputs": [],
   "source": []
  }
 ],
 "metadata": {
  "kernelspec": {
   "display_name": "Python 3",
   "language": "python",
   "name": "python3"
  },
  "language_info": {
   "codemirror_mode": {
    "name": "ipython",
    "version": 3
   },
   "file_extension": ".py",
   "mimetype": "text/x-python",
   "name": "python",
   "nbconvert_exporter": "python",
   "pygments_lexer": "ipython3",
   "version": "3.11.6"
  },
  "orig_nbformat": 4
 },
 "nbformat": 4,
 "nbformat_minor": 2
}
