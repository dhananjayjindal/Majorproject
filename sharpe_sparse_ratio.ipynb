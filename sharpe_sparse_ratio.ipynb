{
 "cells": [
  {
   "cell_type": "code",
   "execution_count": 1,
   "metadata": {},
   "outputs": [],
   "source": [
    "import math \n",
    "import pandas as pd\n",
    "import numpy as np"
   ]
  },
  {
   "cell_type": "code",
   "execution_count": 2,
   "metadata": {},
   "outputs": [
    {
     "ename": "SyntaxError",
     "evalue": "invalid syntax. Perhaps you forgot a comma? (3566090605.py, line 30)",
     "output_type": "error",
     "traceback": [
      "\u001b[1;36m  Cell \u001b[1;32mIn[2], line 30\u001b[1;36m\u001b[0m\n\u001b[1;33m    a = (µT x - rf)\u001b[0m\n\u001b[1;37m         ^\u001b[0m\n\u001b[1;31mSyntaxError\u001b[0m\u001b[1;31m:\u001b[0m invalid syntax. Perhaps you forgot a comma?\n"
     ]
    }
   ],
   "source": [
    "'''\n",
    "The expression h(x) = (µT x − rf)/(xT Σx) represents the calculation of a particular \n",
    "measure known as the Sharpe ratio. Here's what each component of the expression represents:\n",
    "\n",
    "h(x): This is the value of the Sharpe ratio for a given portfolio allocation x. \n",
    "The Sharpe ratio measures the risk-adjusted return of an investment or portfolio. \n",
    "It indicates the excess return (returns above the risk-free rate,rf) \n",
    "per unit of risk (standard deviation, math.sqrt(xT Σx)).\n",
    "\n",
    "μ: This represents the expected returns of the portfolio's assets. I\n",
    "It is typically a vector containing the mean returns of the individual assets in the portfolio.\n",
    "\n",
    "x: This represents the portfolio allocation vector. \n",
    "It specifies the proportion of the total investment \n",
    "allocated to each asset in the portfolio. The elements of x sum to 1.\n",
    "\n",
    "rf: This is the risk-free rate, representing the return on a \n",
    "risk-free investment such as government bonds. The risk-free rate \n",
    "is subtracted from the portfolio's expected returns to calculate the excess return.\n",
    "\n",
    "Σ: This represents the covariance matrix of the portfolio's assets. \n",
    "The covariance matrix captures the pairwise relationships between \n",
    "the returns of the assets in the portfolio.\n",
    "\n",
    "The Sharpe ratio is a widely used measure in finance for evaluating the performance of investment portfolios. \n",
    "A higher Sharpe ratio indicates a better risk-adjusted return, with higher returns relative to the amount of risk taken. \n",
    "Investors often use the Sharpe ratio to compare the performance of different investment strategies or portfolios.\n",
    "'''\n",
    "dataset = pd.read_csv('500112.csv')\n",
    "\n",
    "µT = µ.transpose() \n",
    "xT = x.transpose()\n",
    "\n",
    "a = (µT x - rf)\n",
    "b = math.sqrt(xT Σ  x)\n",
    "c = (a/b)"
   ]
  }
 ],
 "metadata": {
  "kernelspec": {
   "display_name": "Python 3",
   "language": "python",
   "name": "python3"
  },
  "language_info": {
   "codemirror_mode": {
    "name": "ipython",
    "version": 3
   },
   "file_extension": ".py",
   "mimetype": "text/x-python",
   "name": "python",
   "nbconvert_exporter": "python",
   "pygments_lexer": "ipython3",
   "version": "3.11.2"
  },
  "orig_nbformat": 4
 },
 "nbformat": 4,
 "nbformat_minor": 2
}
