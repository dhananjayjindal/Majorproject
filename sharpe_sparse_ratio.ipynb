{
 "cells": [
  {
   "cell_type": "code",
   "execution_count": 7,
   "metadata": {},
   "outputs": [
    {
     "data": {
      "text/plain": [
       "\"\\nThe expression h(x) = (µT x − rf)/(xT Σx) represents the calculation of a particular \\nmeasure known as the Sharpe ratio. Here's what each component of the expression represents:\\n\\nh(x): This is the value of the Sharpe ratio for a given portfolio allocation x. \\nThe Sharpe ratio measures the risk-adjusted return of an investment or portfolio. \\nIt indicates the excess return (returns above the risk-free rate,rf) \\nper unit of risk (standard deviation, math.sqrt(xT Σx)).\\n\\nμ: This represents the expected returns of the portfolio's assets. I\\nIt is typically a vector containing the mean returns of the individual assets in the portfolio.\\n\\nx: This represents the portfolio allocation vector. \\nIt specifies the proportion of the total investment \\nallocated to each asset in the portfolio. The elements of x sum to 1.\\n\\nrf: This is the risk-free rate, representing the return on a \\nrisk-free investment such as government bonds. The risk-free rate \\nis subtracted from the portfolio's expected returns to calculate the excess return.\\n\\nΣ: This represents the covariance matrix of the portfolio's assets. \\nThe covariance matrix captures the pairwise relationships between \\nthe returns of the assets in the portfolio.\\n\\nThe Sharpe ratio is a widely used measure in finance for evaluating the performance of investment portfolios. \\nA higher Sharpe ratio indicates a better risk-adjusted return, with higher returns relative to the amount of risk taken. \\nInvestors often use the Sharpe ratio to compare the performance of different investment strategies or portfolios.\\n\""
      ]
     },
     "execution_count": 7,
     "metadata": {},
     "output_type": "execute_result"
    }
   ],
   "source": [
    "'''\n",
    "The expression h(x) = (µT x − rf)/(xT Σx) represents the calculation of a particular \n",
    "measure known as the Sharpe ratio. Here's what each component of the expression represents:\n",
    "\n",
    "h(x): This is the value of the Sharpe ratio for a given portfolio allocation x. \n",
    "The Sharpe ratio measures the risk-adjusted return of an investment or portfolio. \n",
    "It indicates the excess return (returns above the risk-free rate,rf) \n",
    "per unit of risk (standard deviation, math.sqrt(xT Σx)).\n",
    "\n",
    "μ: This represents the expected returns of the portfolio's assets. I\n",
    "It is typically a vector containing the mean returns of the individual assets in the portfolio.\n",
    "\n",
    "x: This represents the portfolio allocation vector. \n",
    "It specifies the proportion of the total investment \n",
    "allocated to each asset in the portfolio. The elements of x sum to 1.\n",
    "\n",
    "rf: This is the risk-free rate, representing the return on a \n",
    "risk-free investment such as government bonds. The risk-free rate \n",
    "is subtracted from the portfolio's expected returns to calculate the excess return.\n",
    "\n",
    "Σ: This represents the covariance matrix of the portfolio's assets. \n",
    "The covariance matrix captures the pairwise relationships between \n",
    "the returns of the assets in the portfolio.\n",
    "\n",
    "The Sharpe ratio is a widely used measure in finance for evaluating the performance of investment portfolios. \n",
    "A higher Sharpe ratio indicates a better risk-adjusted return, with higher returns relative to the amount of risk taken. \n",
    "Investors often use the Sharpe ratio to compare the performance of different investment strategies or portfolios.\n",
    "'''"
   ]
  },
  {
   "cell_type": "code",
   "execution_count": 8,
   "metadata": {},
   "outputs": [],
   "source": [
    "import math \n",
    "import pandas as pd\n",
    "import numpy as np"
   ]
  },
  {
   "cell_type": "code",
   "execution_count": 9,
   "metadata": {},
   "outputs": [],
   "source": [
    "# import numpy as np\n",
    "\n",
    "# # Load the array from the file\n",
    "# result = np.load('result.npy')\n",
    "\n",
    "# # Now you can use the 'result' array in your Jupyter Notebook\n",
    "# print(result)\n"
   ]
  },
  {
   "cell_type": "code",
   "execution_count": 10,
   "metadata": {},
   "outputs": [
    {
     "name": "stdout",
     "output_type": "stream",
     "text": [
      "-0.17307362525694636\n"
     ]
    }
   ],
   "source": [
    "# dataset = pd.read_csv('Book2.csv')\n",
    "dataset = ([[0.027782019,0.00385288,0.000207034],[0.00385288,0.01112698,-0.000195],[0.000207034,-0.000195,0.001153996]])\n",
    "µ = np.array([0.120570654, 0.078505456, 0.063230293])  # mean hota hai ye \n",
    "µT = np.transpose(µ) \n",
    "# x = result\n",
    "x = np.array([0.039, 0.106, 0.846])  # ye marqui model ka output hai  , jo lambi si eqation thi uska output \n",
    "xT = np.transpose(x)\n",
    "# Σ = np.cov(dataset)\n",
    "Σ = dataset  # covarince hai ye sare assets ka \n",
    "xTΣx = np.dot(np.dot(xT, Σ), x)\n",
    "rf = 0.072\n",
    "µTx = np.dot(µT, x)\n",
    "\n",
    "a = (µTx - rf)\n",
    "b = math.sqrt(xTΣx)\n",
    "c = (a/b)\n",
    "print (c)"
   ]
  }
 ],
 "metadata": {
  "kernelspec": {
   "display_name": "Python 3",
   "language": "python",
   "name": "python3"
  },
  "language_info": {
   "codemirror_mode": {
    "name": "ipython",
    "version": 3
   },
   "file_extension": ".py",
   "mimetype": "text/x-python",
   "name": "python",
   "nbconvert_exporter": "python",
   "pygments_lexer": "ipython3",
   "version": "3.11.2"
  },
  "orig_nbformat": 4
 },
 "nbformat": 4,
 "nbformat_minor": 2
}
